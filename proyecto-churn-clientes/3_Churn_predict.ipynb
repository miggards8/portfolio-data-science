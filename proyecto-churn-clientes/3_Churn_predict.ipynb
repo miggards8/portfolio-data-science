{
 "cells": [
  {
   "cell_type": "markdown",
   "id": "f703cc57-5ea1-40cc-8715-c875c13dc9f9",
   "metadata": {},
   "source": [
    "# Predicción de fuga de clientes con nuevos datos y realización de un simulador de fuga de clientes. "
   ]
  },
  {
   "cell_type": "markdown",
   "id": "0d195dd5-40b7-47a3-8e07-60c3d5a9fb3d",
   "metadata": {},
   "source": [
    "Una vez hemos realizado en modelo con los datos de diciembre, con los datos de enero vamos a realizar el mismo preprocesado que se relizó con los datos de diciembre y realizaremos predicciones de fuga de clientes con los datos de enero y un simulador de probabilidad de fuga de clientes para el equipo de negocio."
   ]
  },
  {
   "cell_type": "code",
   "execution_count": 1,
   "id": "ea92f7aa-0745-4943-b664-97a0581640ce",
   "metadata": {},
   "outputs": [
    {
     "data": {
      "text/html": [
       "\n",
       "            <div>\n",
       "                <ins><a href=\"https://ydata.ai/register\">Upgrade to ydata-sdk</a></ins>\n",
       "                <p>\n",
       "                    Improve your data and profiling with ydata-sdk, featuring data quality scoring, redundancy detection, outlier identification, text validation, and synthetic data generation.\n",
       "                </p>\n",
       "            </div>\n",
       "            "
      ],
      "text/plain": [
       "<IPython.core.display.HTML object>"
      ]
     },
     "metadata": {},
     "output_type": "display_data"
    }
   ],
   "source": [
    "## lo básico\n",
    "import pandas as pd\n",
    "import numpy as np\n",
    "\n",
    "## visualización\n",
    "import matplotlib.pyplot as plt\n",
    "%matplotlib inline\n",
    "import seaborn as sns\n",
    "import plotly.express as px\n",
    "import plotly.graph_objects as go\n",
    "\n",
    "## pre procesado\n",
    "from sklearn.model_selection import train_test_split\n",
    "from ydata_profiling import ProfileReport\n",
    "\n",
    "## modelado\n",
    "from sklearn.preprocessing import LabelEncoder\n",
    "from sklearn.ensemble import RandomForestClassifier\n",
    "from sklearn.tree import DecisionTreeClassifier\n",
    "from sklearn.linear_model import LogisticRegression\n",
    "from xgboost import XGBClassifier\n",
    "from sklearn.svm import SVC\n",
    "\n",
    "## métricas\n",
    "from pandas.plotting import scatter_matrix\n",
    "from sklearn.metrics import accuracy_score, auc, confusion_matrix, f1_score, precision_score, recall_score, roc_curve\n",
    "from sklearn.metrics import classification_report\n",
    "\n",
    "## mejora de modelos\n",
    "from sklearn.feature_selection import VarianceThreshold\n",
    "from sklearn.feature_selection import SelectKBest\n",
    "from sklearn.model_selection import GridSearchCV\n",
    "from imblearn.over_sampling import SMOTE\n",
    "from sklearn.model_selection import cross_val_score\n",
    "\n",
    "## automatización\n",
    "from sklearn.pipeline import Pipeline\n",
    "from sklearn.preprocessing import OneHotEncoder, StandardScaler\n",
    "from sklearn.compose import ColumnTransformer\n",
    "from sklearn.impute import SimpleImputer\n",
    "\n",
    "#Funciones \n",
    "from funcionesML import tramos, plot_feature_importance, saca_metricas\n",
    "\n",
    "import math\n",
    "from collections import Counter\n",
    "from imblearn.pipeline import Pipeline as ImbPipeline\n",
    "import joblib"
   ]
  },
  {
   "cell_type": "code",
   "execution_count": 2,
   "id": "9f9613ea-4d74-45b7-abd5-90061712e2e0",
   "metadata": {},
   "outputs": [],
   "source": [
    "df_jan = pd.read_parquet(\"df_jan.parquet\")"
   ]
  },
  {
   "cell_type": "code",
   "execution_count": 4,
   "id": "db2b847a-5837-489e-8f58-865eef71f8d6",
   "metadata": {},
   "outputs": [
    {
     "data": {
      "text/html": [
       "<div>\n",
       "<style scoped>\n",
       "    .dataframe tbody tr th:only-of-type {\n",
       "        vertical-align: middle;\n",
       "    }\n",
       "\n",
       "    .dataframe tbody tr th {\n",
       "        vertical-align: top;\n",
       "    }\n",
       "\n",
       "    .dataframe thead th {\n",
       "        text-align: right;\n",
       "    }\n",
       "</style>\n",
       "<table border=\"1\" class=\"dataframe\">\n",
       "  <thead>\n",
       "    <tr style=\"text-align: right;\">\n",
       "      <th></th>\n",
       "      <th>id</th>\n",
       "      <th>edad</th>\n",
       "      <th>facturacion</th>\n",
       "      <th>antiguedad</th>\n",
       "      <th>provincia</th>\n",
       "      <th>num_lineas</th>\n",
       "      <th>num_dt</th>\n",
       "      <th>incidencia</th>\n",
       "      <th>conexion</th>\n",
       "      <th>vel_conexion</th>\n",
       "      <th>TV</th>\n",
       "      <th>num_llamad_ent</th>\n",
       "      <th>num_llamad_sal</th>\n",
       "      <th>mb_datos</th>\n",
       "      <th>seg_llamad_ent</th>\n",
       "      <th>seg_llamad_sal</th>\n",
       "      <th>financiacion</th>\n",
       "      <th>imp_financ</th>\n",
       "      <th>descuentos</th>\n",
       "    </tr>\n",
       "  </thead>\n",
       "  <tbody>\n",
       "    <tr>\n",
       "      <th>0</th>\n",
       "      <td>1</td>\n",
       "      <td>63</td>\n",
       "      <td>216.028109</td>\n",
       "      <td>11/23/2018 08:48 AM</td>\n",
       "      <td>La Rioja</td>\n",
       "      <td>5</td>\n",
       "      <td>NaN</td>\n",
       "      <td>None</td>\n",
       "      <td>FIBRA</td>\n",
       "      <td>50MB</td>\n",
       "      <td>tv-futbol</td>\n",
       "      <td>95</td>\n",
       "      <td>19</td>\n",
       "      <td>6525</td>\n",
       "      <td>7634</td>\n",
       "      <td>18520</td>\n",
       "      <td>None</td>\n",
       "      <td>NaN</td>\n",
       "      <td>None</td>\n",
       "    </tr>\n",
       "    <tr>\n",
       "      <th>1</th>\n",
       "      <td>2</td>\n",
       "      <td>84</td>\n",
       "      <td>255.830842</td>\n",
       "      <td>08/22/2017 03:19 AM</td>\n",
       "      <td>Vizcaya</td>\n",
       "      <td>3</td>\n",
       "      <td>NaN</td>\n",
       "      <td>None</td>\n",
       "      <td>FIBRA</td>\n",
       "      <td>600MB</td>\n",
       "      <td>tv-futbol</td>\n",
       "      <td>44</td>\n",
       "      <td>36</td>\n",
       "      <td>14471</td>\n",
       "      <td>14541</td>\n",
       "      <td>8016</td>\n",
       "      <td>None</td>\n",
       "      <td>NaN</td>\n",
       "      <td>SI</td>\n",
       "    </tr>\n",
       "    <tr>\n",
       "      <th>2</th>\n",
       "      <td>3</td>\n",
       "      <td>66</td>\n",
       "      <td>135.768153</td>\n",
       "      <td>12/27/2001 01:50 PM</td>\n",
       "      <td>Albacete</td>\n",
       "      <td>4</td>\n",
       "      <td>NaN</td>\n",
       "      <td>None</td>\n",
       "      <td>ADSL</td>\n",
       "      <td>35MB</td>\n",
       "      <td>tv-futbol</td>\n",
       "      <td>94</td>\n",
       "      <td>27</td>\n",
       "      <td>1428</td>\n",
       "      <td>5248</td>\n",
       "      <td>7106</td>\n",
       "      <td>None</td>\n",
       "      <td>NaN</td>\n",
       "      <td>SI</td>\n",
       "    </tr>\n",
       "    <tr>\n",
       "      <th>3</th>\n",
       "      <td>4</td>\n",
       "      <td>69</td>\n",
       "      <td>255.658527</td>\n",
       "      <td>08/08/2015 10:53 AM</td>\n",
       "      <td>Lugo</td>\n",
       "      <td>4</td>\n",
       "      <td>NaN</td>\n",
       "      <td>None</td>\n",
       "      <td>FIBRA</td>\n",
       "      <td>200MB</td>\n",
       "      <td>tv-familiar</td>\n",
       "      <td>186</td>\n",
       "      <td>20</td>\n",
       "      <td>20083</td>\n",
       "      <td>7372</td>\n",
       "      <td>5052</td>\n",
       "      <td>None</td>\n",
       "      <td>NaN</td>\n",
       "      <td>None</td>\n",
       "    </tr>\n",
       "    <tr>\n",
       "      <th>4</th>\n",
       "      <td>6</td>\n",
       "      <td>51</td>\n",
       "      <td>99.348645</td>\n",
       "      <td>11/04/1997 11:43 AM</td>\n",
       "      <td>Huelva</td>\n",
       "      <td>4</td>\n",
       "      <td>NaN</td>\n",
       "      <td>None</td>\n",
       "      <td>FIBRA</td>\n",
       "      <td>200MB</td>\n",
       "      <td>tv-futbol</td>\n",
       "      <td>37</td>\n",
       "      <td>32</td>\n",
       "      <td>19078</td>\n",
       "      <td>5009</td>\n",
       "      <td>8686</td>\n",
       "      <td>None</td>\n",
       "      <td>NaN</td>\n",
       "      <td>None</td>\n",
       "    </tr>\n",
       "  </tbody>\n",
       "</table>\n",
       "</div>"
      ],
      "text/plain": [
       "   id  edad  facturacion           antiguedad provincia  num_lineas  num_dt  \\\n",
       "0   1    63   216.028109  11/23/2018 08:48 AM  La Rioja           5     NaN   \n",
       "1   2    84   255.830842  08/22/2017 03:19 AM   Vizcaya           3     NaN   \n",
       "2   3    66   135.768153  12/27/2001 01:50 PM  Albacete           4     NaN   \n",
       "3   4    69   255.658527  08/08/2015 10:53 AM      Lugo           4     NaN   \n",
       "4   6    51    99.348645  11/04/1997 11:43 AM    Huelva           4     NaN   \n",
       "\n",
       "  incidencia conexion vel_conexion           TV  num_llamad_ent  \\\n",
       "0       None    FIBRA         50MB    tv-futbol              95   \n",
       "1       None    FIBRA        600MB    tv-futbol              44   \n",
       "2       None     ADSL         35MB    tv-futbol              94   \n",
       "3       None    FIBRA        200MB  tv-familiar             186   \n",
       "4       None    FIBRA        200MB    tv-futbol              37   \n",
       "\n",
       "   num_llamad_sal  mb_datos  seg_llamad_ent  seg_llamad_sal financiacion  \\\n",
       "0              19      6525            7634           18520         None   \n",
       "1              36     14471           14541            8016         None   \n",
       "2              27      1428            5248            7106         None   \n",
       "3              20     20083            7372            5052         None   \n",
       "4              32     19078            5009            8686         None   \n",
       "\n",
       "   imp_financ descuentos  \n",
       "0         NaN       None  \n",
       "1         NaN         SI  \n",
       "2         NaN         SI  \n",
       "3         NaN       None  \n",
       "4         NaN       None  "
      ]
     },
     "execution_count": 4,
     "metadata": {},
     "output_type": "execute_result"
    }
   ],
   "source": [
    "df_jan.head()"
   ]
  },
  {
   "cell_type": "code",
   "execution_count": 6,
   "id": "94a632e5-e948-4e12-8063-094d16c98e7b",
   "metadata": {},
   "outputs": [
    {
     "name": "stdout",
     "output_type": "stream",
     "text": [
      "<class 'pandas.core.frame.DataFrame'>\n",
      "RangeIndex: 92711 entries, 0 to 92710\n",
      "Data columns (total 19 columns):\n",
      " #   Column          Non-Null Count  Dtype  \n",
      "---  ------          --------------  -----  \n",
      " 0   id              92711 non-null  int64  \n",
      " 1   edad            92711 non-null  int64  \n",
      " 2   facturacion     92711 non-null  float64\n",
      " 3   antiguedad      92711 non-null  object \n",
      " 4   provincia       92711 non-null  object \n",
      " 5   num_lineas      92711 non-null  int64  \n",
      " 6   num_dt          2614 non-null   float64\n",
      " 7   incidencia      1991 non-null   object \n",
      " 8   conexion        92709 non-null  object \n",
      " 9   vel_conexion    92708 non-null  object \n",
      " 10  TV              92711 non-null  object \n",
      " 11  num_llamad_ent  92711 non-null  int64  \n",
      " 12  num_llamad_sal  92711 non-null  int64  \n",
      " 13  mb_datos        92711 non-null  int64  \n",
      " 14  seg_llamad_ent  92711 non-null  int64  \n",
      " 15  seg_llamad_sal  92711 non-null  int64  \n",
      " 16  financiacion    6666 non-null   object \n",
      " 17  imp_financ      6666 non-null   float64\n",
      " 18  descuentos      20038 non-null  object \n",
      "dtypes: float64(3), int64(8), object(8)\n",
      "memory usage: 13.4+ MB\n"
     ]
    }
   ],
   "source": [
    "df_jan.info()"
   ]
  },
  {
   "cell_type": "markdown",
   "id": "2c4c2169-8324-4065-aedb-0989d2d4ca33",
   "metadata": {},
   "source": [
    "## Reemplazo de nulos estructurales por ceros"
   ]
  },
  {
   "cell_type": "code",
   "execution_count": 8,
   "id": "136a20c0-26a8-4bd2-9a38-db83c459b87c",
   "metadata": {},
   "outputs": [],
   "source": [
    "df_jan['num_dt'] = df_jan['num_dt'].fillna(0)\n",
    "df_jan['incidencia'] = df_jan['incidencia'].fillna(0)\n",
    "df_jan['financiacion'] = df_jan['financiacion'].fillna(0)\n",
    "df_jan['imp_financ'] = df_jan['imp_financ'].fillna(0)\n",
    "df_jan['descuentos'] = df_jan['descuentos'].fillna(0)"
   ]
  },
  {
   "cell_type": "code",
   "execution_count": 9,
   "id": "cbc2c26f-d864-4711-abeb-11de4aa00c9c",
   "metadata": {},
   "outputs": [
    {
     "name": "stdout",
     "output_type": "stream",
     "text": [
      "<class 'pandas.core.frame.DataFrame'>\n",
      "RangeIndex: 92711 entries, 0 to 92710\n",
      "Data columns (total 19 columns):\n",
      " #   Column          Non-Null Count  Dtype  \n",
      "---  ------          --------------  -----  \n",
      " 0   id              92711 non-null  int64  \n",
      " 1   edad            92711 non-null  int64  \n",
      " 2   facturacion     92711 non-null  float64\n",
      " 3   antiguedad      92711 non-null  object \n",
      " 4   provincia       92711 non-null  object \n",
      " 5   num_lineas      92711 non-null  int64  \n",
      " 6   num_dt          92711 non-null  float64\n",
      " 7   incidencia      92711 non-null  object \n",
      " 8   conexion        92709 non-null  object \n",
      " 9   vel_conexion    92708 non-null  object \n",
      " 10  TV              92711 non-null  object \n",
      " 11  num_llamad_ent  92711 non-null  int64  \n",
      " 12  num_llamad_sal  92711 non-null  int64  \n",
      " 13  mb_datos        92711 non-null  int64  \n",
      " 14  seg_llamad_ent  92711 non-null  int64  \n",
      " 15  seg_llamad_sal  92711 non-null  int64  \n",
      " 16  financiacion    92711 non-null  object \n",
      " 17  imp_financ      92711 non-null  float64\n",
      " 18  descuentos      92711 non-null  object \n",
      "dtypes: float64(3), int64(8), object(8)\n",
      "memory usage: 13.4+ MB\n"
     ]
    }
   ],
   "source": [
    "df_jan.info()"
   ]
  },
  {
   "cell_type": "code",
   "execution_count": 10,
   "id": "b7904479-29f8-46ed-8ea2-90cb70d06fad",
   "metadata": {},
   "outputs": [],
   "source": [
    "df_jan['descuentos'] = df_jan['descuentos'].map({0:0, 'SI': 1})\n",
    "df_jan['incidencia']=df_jan['incidencia'].map({0:0, 'SI':1})\n",
    "df_jan['financiacion']=df_jan['financiacion'].map({0:0, 'SI':1})"
   ]
  },
  {
   "cell_type": "code",
   "execution_count": 11,
   "id": "ef132e36-02ca-45d0-aa6b-0b8e1329c0d7",
   "metadata": {},
   "outputs": [
    {
     "data": {
      "text/plain": [
       "num_lineas\n",
       "3    29071\n",
       "4    25927\n",
       "5    22161\n",
       "2    12793\n",
       "1     2759\n",
       "Name: count, dtype: int64"
      ]
     },
     "execution_count": 11,
     "metadata": {},
     "output_type": "execute_result"
    }
   ],
   "source": [
    "df_jan['num_lineas'].value_counts()"
   ]
  },
  {
   "cell_type": "code",
   "execution_count": 12,
   "id": "00b6dada-f364-420a-9bd2-62df13ef2f2c",
   "metadata": {},
   "outputs": [
    {
     "data": {
      "text/plain": [
       "vel_conexion\n",
       "200MB    9342\n",
       "600MB    9299\n",
       "300MB    9212\n",
       "50MB     9167\n",
       "100MB    9099\n",
       "20MB     7882\n",
       "25MB     7840\n",
       "10MB     7807\n",
       "30MB     7761\n",
       "35MB     7672\n",
       "15MB     7627\n",
       "Name: count, dtype: int64"
      ]
     },
     "execution_count": 12,
     "metadata": {},
     "output_type": "execute_result"
    }
   ],
   "source": [
    "df_jan['vel_conexion'].value_counts()"
   ]
  },
  {
   "cell_type": "code",
   "execution_count": 13,
   "id": "3fede22b-b302-47d7-8352-652c2fe9a8e6",
   "metadata": {},
   "outputs": [
    {
     "data": {
      "text/plain": [
       "id                0\n",
       "edad              0\n",
       "facturacion       0\n",
       "antiguedad        0\n",
       "provincia         0\n",
       "num_lineas        0\n",
       "num_dt            0\n",
       "incidencia        0\n",
       "conexion          2\n",
       "vel_conexion      3\n",
       "TV                0\n",
       "num_llamad_ent    0\n",
       "num_llamad_sal    0\n",
       "mb_datos          0\n",
       "seg_llamad_ent    0\n",
       "seg_llamad_sal    0\n",
       "financiacion      0\n",
       "imp_financ        0\n",
       "descuentos        0\n",
       "dtype: int64"
      ]
     },
     "execution_count": 13,
     "metadata": {},
     "output_type": "execute_result"
    }
   ],
   "source": [
    "df_jan.isna().sum()"
   ]
  },
  {
   "cell_type": "markdown",
   "id": "b797fc8f-d765-4464-b5c9-2a9e7dc94ccb",
   "metadata": {},
   "source": [
    "En el conjunto de datos de enero hemos detectado algunos valores ausentes en las variables conexion y vel_conexion. A diferencia de diciembre, donde eliminamos esos registros por ser muy pocos y poco relevantes, ahora optamos por imputarlos. El motivo es que necesitamos predecir sobre todos los clientes disponibles, y perder registros podría reducir el alcance del modelo. Como los nulos son pocos y los datos tienen valor para el negocio, completarlos nos permite mantener la calidad y utilidad del análisis."
   ]
  },
  {
   "cell_type": "code",
   "execution_count": 15,
   "id": "2ef2e52c-0070-477d-896b-9ba250ee4f1e",
   "metadata": {},
   "outputs": [
    {
     "data": {
      "text/html": [
       "<div>\n",
       "<style scoped>\n",
       "    .dataframe tbody tr th:only-of-type {\n",
       "        vertical-align: middle;\n",
       "    }\n",
       "\n",
       "    .dataframe tbody tr th {\n",
       "        vertical-align: top;\n",
       "    }\n",
       "\n",
       "    .dataframe thead th {\n",
       "        text-align: right;\n",
       "    }\n",
       "</style>\n",
       "<table border=\"1\" class=\"dataframe\">\n",
       "  <thead>\n",
       "    <tr style=\"text-align: right;\">\n",
       "      <th></th>\n",
       "      <th>id</th>\n",
       "      <th>edad</th>\n",
       "      <th>facturacion</th>\n",
       "      <th>antiguedad</th>\n",
       "      <th>provincia</th>\n",
       "      <th>num_lineas</th>\n",
       "      <th>num_dt</th>\n",
       "      <th>incidencia</th>\n",
       "      <th>conexion</th>\n",
       "      <th>vel_conexion</th>\n",
       "      <th>TV</th>\n",
       "      <th>num_llamad_ent</th>\n",
       "      <th>num_llamad_sal</th>\n",
       "      <th>mb_datos</th>\n",
       "      <th>seg_llamad_ent</th>\n",
       "      <th>seg_llamad_sal</th>\n",
       "      <th>financiacion</th>\n",
       "      <th>imp_financ</th>\n",
       "      <th>descuentos</th>\n",
       "    </tr>\n",
       "  </thead>\n",
       "  <tbody>\n",
       "    <tr>\n",
       "      <th>57</th>\n",
       "      <td>63</td>\n",
       "      <td>28</td>\n",
       "      <td>183.353127</td>\n",
       "      <td>10/27/2018 10:37 PM</td>\n",
       "      <td>Palencia</td>\n",
       "      <td>5</td>\n",
       "      <td>0.0</td>\n",
       "      <td>0</td>\n",
       "      <td>None</td>\n",
       "      <td>100MB</td>\n",
       "      <td>tv-familiar</td>\n",
       "      <td>80</td>\n",
       "      <td>26</td>\n",
       "      <td>16659</td>\n",
       "      <td>3649</td>\n",
       "      <td>14213</td>\n",
       "      <td>0</td>\n",
       "      <td>0.0</td>\n",
       "      <td>1</td>\n",
       "    </tr>\n",
       "    <tr>\n",
       "      <th>58</th>\n",
       "      <td>65</td>\n",
       "      <td>85</td>\n",
       "      <td>369.220953</td>\n",
       "      <td>09/23/2002 11:09 AM</td>\n",
       "      <td>Álava</td>\n",
       "      <td>3</td>\n",
       "      <td>0.0</td>\n",
       "      <td>0</td>\n",
       "      <td>None</td>\n",
       "      <td>30MB</td>\n",
       "      <td>tv-total</td>\n",
       "      <td>152</td>\n",
       "      <td>74</td>\n",
       "      <td>304</td>\n",
       "      <td>17449</td>\n",
       "      <td>12919</td>\n",
       "      <td>0</td>\n",
       "      <td>0.0</td>\n",
       "      <td>0</td>\n",
       "    </tr>\n",
       "    <tr>\n",
       "      <th>200</th>\n",
       "      <td>215</td>\n",
       "      <td>54</td>\n",
       "      <td>126.570011</td>\n",
       "      <td>04/03/2003 12:47 AM</td>\n",
       "      <td>Cantabria</td>\n",
       "      <td>5</td>\n",
       "      <td>0.0</td>\n",
       "      <td>0</td>\n",
       "      <td>ADSL</td>\n",
       "      <td>None</td>\n",
       "      <td>tv-futbol</td>\n",
       "      <td>114</td>\n",
       "      <td>94</td>\n",
       "      <td>21443</td>\n",
       "      <td>12555</td>\n",
       "      <td>4524</td>\n",
       "      <td>0</td>\n",
       "      <td>0.0</td>\n",
       "      <td>0</td>\n",
       "    </tr>\n",
       "    <tr>\n",
       "      <th>201</th>\n",
       "      <td>216</td>\n",
       "      <td>60</td>\n",
       "      <td>179.288551</td>\n",
       "      <td>10/01/1995 10:34 AM</td>\n",
       "      <td>Málaga</td>\n",
       "      <td>3</td>\n",
       "      <td>0.0</td>\n",
       "      <td>0</td>\n",
       "      <td>ADSL</td>\n",
       "      <td>None</td>\n",
       "      <td>tv-futbol</td>\n",
       "      <td>212</td>\n",
       "      <td>74</td>\n",
       "      <td>16951</td>\n",
       "      <td>10913</td>\n",
       "      <td>619</td>\n",
       "      <td>0</td>\n",
       "      <td>0.0</td>\n",
       "      <td>1</td>\n",
       "    </tr>\n",
       "    <tr>\n",
       "      <th>202</th>\n",
       "      <td>217</td>\n",
       "      <td>52</td>\n",
       "      <td>187.078300</td>\n",
       "      <td>12/09/2010 02:19 PM</td>\n",
       "      <td>Almería</td>\n",
       "      <td>3</td>\n",
       "      <td>0.0</td>\n",
       "      <td>0</td>\n",
       "      <td>FIBRA</td>\n",
       "      <td>None</td>\n",
       "      <td>tv-familiar</td>\n",
       "      <td>35</td>\n",
       "      <td>20</td>\n",
       "      <td>1146</td>\n",
       "      <td>12066</td>\n",
       "      <td>19098</td>\n",
       "      <td>0</td>\n",
       "      <td>0.0</td>\n",
       "      <td>1</td>\n",
       "    </tr>\n",
       "  </tbody>\n",
       "</table>\n",
       "</div>"
      ],
      "text/plain": [
       "      id  edad  facturacion           antiguedad  provincia  num_lineas  \\\n",
       "57    63    28   183.353127  10/27/2018 10:37 PM   Palencia           5   \n",
       "58    65    85   369.220953  09/23/2002 11:09 AM      Álava           3   \n",
       "200  215    54   126.570011  04/03/2003 12:47 AM  Cantabria           5   \n",
       "201  216    60   179.288551  10/01/1995 10:34 AM     Málaga           3   \n",
       "202  217    52   187.078300  12/09/2010 02:19 PM    Almería           3   \n",
       "\n",
       "     num_dt  incidencia conexion vel_conexion           TV  num_llamad_ent  \\\n",
       "57      0.0           0     None        100MB  tv-familiar              80   \n",
       "58      0.0           0     None         30MB     tv-total             152   \n",
       "200     0.0           0     ADSL         None    tv-futbol             114   \n",
       "201     0.0           0     ADSL         None    tv-futbol             212   \n",
       "202     0.0           0    FIBRA         None  tv-familiar              35   \n",
       "\n",
       "     num_llamad_sal  mb_datos  seg_llamad_ent  seg_llamad_sal  financiacion  \\\n",
       "57               26     16659            3649           14213             0   \n",
       "58               74       304           17449           12919             0   \n",
       "200              94     21443           12555            4524             0   \n",
       "201              74     16951           10913             619             0   \n",
       "202              20      1146           12066           19098             0   \n",
       "\n",
       "     imp_financ  descuentos  \n",
       "57          0.0           1  \n",
       "58          0.0           0  \n",
       "200         0.0           0  \n",
       "201         0.0           1  \n",
       "202         0.0           1  "
      ]
     },
     "execution_count": 15,
     "metadata": {},
     "output_type": "execute_result"
    }
   ],
   "source": [
    "df_jan[df_jan.isnull().any(axis=1)]\n"
   ]
  },
  {
   "cell_type": "code",
   "execution_count": 21,
   "id": "aab4e6aa-1977-4aae-ad9a-0a4d68266312",
   "metadata": {},
   "outputs": [
    {
     "data": {
      "text/plain": [
       "conexion\n",
       "ADSL    7627\n",
       "Name: count, dtype: int64"
      ]
     },
     "execution_count": 21,
     "metadata": {},
     "output_type": "execute_result"
    }
   ],
   "source": [
    "# ¿Qué tipo de conexión tienen los clientes con 15MB?\n",
    "(df_jan[df_jan['vel_conexion'] == '15MB']['conexion'].value_counts())\n"
   ]
  },
  {
   "cell_type": "code",
   "execution_count": 20,
   "id": "1682cf4d-e844-4950-a6fc-07e4785fc6b7",
   "metadata": {},
   "outputs": [
    {
     "data": {
      "text/plain": [
       "conexion\n",
       "FIBRA    9098\n",
       "Name: count, dtype: int64"
      ]
     },
     "execution_count": 20,
     "metadata": {},
     "output_type": "execute_result"
    }
   ],
   "source": [
    "# ¿Qué tipo de conexión tienen los clientes con 15MB?\n",
    "(df_jan[df_jan['vel_conexion'] == '100MB']['conexion'].value_counts())"
   ]
  },
  {
   "cell_type": "code",
   "execution_count": 22,
   "id": "871f505c-080b-4dce-afa5-1f3718fd9c2c",
   "metadata": {},
   "outputs": [
    {
     "data": {
      "text/plain": [
       "vel_conexion\n",
       "20MB    7882\n",
       "25MB    7840\n",
       "10MB    7807\n",
       "30MB    7760\n",
       "35MB    7672\n",
       "15MB    7627\n",
       "Name: count, dtype: int64"
      ]
     },
     "execution_count": 22,
     "metadata": {},
     "output_type": "execute_result"
    }
   ],
   "source": [
    "# ¿Qué tipo de conexión tienen los clientes con ADSL? Aquí veremos la conexión más utilizada. \n",
    "(df_jan[df_jan['conexion'] == 'ADSL']['vel_conexion'].value_counts())"
   ]
  },
  {
   "cell_type": "code",
   "execution_count": 23,
   "id": "d9d64031-f981-46db-9083-c78f07d7f7a1",
   "metadata": {},
   "outputs": [
    {
     "data": {
      "text/plain": [
       "vel_conexion\n",
       "200MB    9342\n",
       "600MB    9299\n",
       "300MB    9212\n",
       "50MB     9167\n",
       "100MB    9098\n",
       "Name: count, dtype: int64"
      ]
     },
     "execution_count": 23,
     "metadata": {},
     "output_type": "execute_result"
    }
   ],
   "source": [
    "# ¿Qué tipo de conexión tienen los clientes con FIBRA? Aquí veremos la conexión más utilizada. \n",
    "(df_jan[df_jan['conexion'] == 'FIBRA']['vel_conexion'].value_counts())"
   ]
  },
  {
   "cell_type": "code",
   "execution_count": 24,
   "id": "08e65f97-1844-40dc-aee9-6399de14f6f6",
   "metadata": {},
   "outputs": [],
   "source": [
    "# Si conexión es ADSL y vel_conexion está vacía → imputamos con 20MB\n",
    "df_jan.loc[(df_jan['conexion'] == 'ADSL') & (df_jan['vel_conexion'].isna()), 'vel_conexion'] = '20MB'\n",
    "# Si conexión es FIBRA y vel_conexion está vacía → imputamos con 200MB\n",
    "df_jan.loc[(df_jan['conexion'] == 'FIBRA') & (df_jan['vel_conexion'].isna()), 'vel_conexion'] = '200MB'\n",
    "# Si vel_conexion es 15MB y conexión está vacía → imputamos con ADSL\n",
    "df_jan.loc[(df_jan['vel_conexion'] == '15MB') & (df_jan['conexion'].isna()), 'conexion'] = 'ADSL'\n",
    "# Si vel_conexion es 100MB y conexión está vacía → imputamos con FIBRA\n",
    "df_jan.loc[(df_jan['vel_conexion'] == '100MB') & (df_jan['conexion'].isna()), 'conexion'] = 'FIBRA'\n"
   ]
  },
  {
   "cell_type": "markdown",
   "id": "d0dba9bd-8737-4d95-b7fa-1adf1b1ff3d9",
   "metadata": {},
   "source": [
    "Para imputar los valores ausentes, nos hemos guiado por el conocimiento del negocio y los patrones del propio dataset. Vimos que los clientes con 15MB siempre tienen ADSL, y los de 100MB usan solo FIBRA. Además, entre quienes tenían conexión pero no velocidad, las más comunes eran 20MB para ADSL y 200MB para FIBRA. Por eso, hemos imputado usando estas combinaciones frecuentes, manteniendo la coherencia con el producto y asegurando que el modelo reciba datos consistentes."
   ]
  },
  {
   "cell_type": "markdown",
   "id": "280a696a-4940-463c-bc82-7999ca63a073",
   "metadata": {},
   "source": [
    "## Transformacion de variable antigüedad"
   ]
  },
  {
   "cell_type": "code",
   "execution_count": 25,
   "id": "4ecc36cc-d0f2-4920-8dd9-c3dcedd7ddf5",
   "metadata": {},
   "outputs": [],
   "source": [
    "# Convertimos la columna a formato datetime\n",
    "df_jan.loc[:, 'antiguedad'] = pd.to_datetime(df_jan['antiguedad'], errors='coerce')"
   ]
  },
  {
   "cell_type": "code",
   "execution_count": 26,
   "id": "e701d590-4403-462d-9d34-27c436240ee6",
   "metadata": {},
   "outputs": [
    {
     "name": "stdout",
     "output_type": "stream",
     "text": [
      "Fecha mínima de alta: 1995-01-01 15:23:00\n",
      "Fecha máxima de alta: 2020-01-31 04:46:00\n"
     ]
    }
   ],
   "source": [
    "# Comprobamos el rango de fechas de alta de los clientes\n",
    "fecha_min = df_jan['antiguedad'].min()\n",
    "fecha_max = df_jan['antiguedad'].max()\n",
    "print(f\"Fecha mínima de alta: {fecha_min}\")\n",
    "print(f\"Fecha máxima de alta: {fecha_max}\")"
   ]
  },
  {
   "cell_type": "code",
   "execution_count": 27,
   "id": "b36d4992-7bc2-44c2-971c-4919bc4b36c5",
   "metadata": {},
   "outputs": [],
   "source": [
    "fecha_corte = pd.to_datetime('2020-01-31')"
   ]
  },
  {
   "cell_type": "code",
   "execution_count": 29,
   "id": "22e05903-fb5d-4c3a-9e9b-c51bcf39e86a",
   "metadata": {},
   "outputs": [],
   "source": [
    "# Calculamos la antigüedad en días desde la fecha de alta hasta la fecha de corte (diciembre 2019)\n",
    "df_jan = df_jan.copy()\n",
    "df_jan['antiguedad'] = pd.to_datetime(df_jan['antiguedad'], errors='coerce')\n",
    "df_jan['antiguedad_dias'] = (fecha_corte - df_jan['antiguedad']).dt.days"
   ]
  },
  {
   "cell_type": "code",
   "execution_count": 30,
   "id": "f55491c8-9e5b-4f46-939a-065c14de9323",
   "metadata": {},
   "outputs": [
    {
     "name": "stdout",
     "output_type": "stream",
     "text": [
      "           antiguedad  antiguedad_dias\n",
      "0 2018-11-23 08:48:00              433\n",
      "1 2017-08-22 03:19:00              891\n",
      "2 2001-12-27 13:50:00             6608\n",
      "3 2015-08-08 10:53:00             1636\n",
      "4 1997-11-04 11:43:00             8122\n"
     ]
    }
   ],
   "source": [
    "# Mostramos algunos ejemplos para verificar el resultado\n",
    "print(df_jan[['antiguedad', 'antiguedad_dias']].head())"
   ]
  },
  {
   "cell_type": "code",
   "execution_count": 31,
   "id": "efc98e40-2337-4035-934f-161f5e546fc9",
   "metadata": {},
   "outputs": [],
   "source": [
    "#Eliminamos la columna original \n",
    "df_jan.drop(columns='antiguedad', inplace=True)"
   ]
  },
  {
   "cell_type": "code",
   "execution_count": 32,
   "id": "852d83df-edfa-44aa-aba2-8ff39d606eca",
   "metadata": {},
   "outputs": [
    {
     "data": {
      "text/html": [
       "<div>\n",
       "<style scoped>\n",
       "    .dataframe tbody tr th:only-of-type {\n",
       "        vertical-align: middle;\n",
       "    }\n",
       "\n",
       "    .dataframe tbody tr th {\n",
       "        vertical-align: top;\n",
       "    }\n",
       "\n",
       "    .dataframe thead th {\n",
       "        text-align: right;\n",
       "    }\n",
       "</style>\n",
       "<table border=\"1\" class=\"dataframe\">\n",
       "  <thead>\n",
       "    <tr style=\"text-align: right;\">\n",
       "      <th></th>\n",
       "      <th>id</th>\n",
       "      <th>edad</th>\n",
       "      <th>facturacion</th>\n",
       "      <th>provincia</th>\n",
       "      <th>num_lineas</th>\n",
       "      <th>num_dt</th>\n",
       "      <th>incidencia</th>\n",
       "      <th>conexion</th>\n",
       "      <th>vel_conexion</th>\n",
       "      <th>TV</th>\n",
       "      <th>num_llamad_ent</th>\n",
       "      <th>num_llamad_sal</th>\n",
       "      <th>mb_datos</th>\n",
       "      <th>seg_llamad_ent</th>\n",
       "      <th>seg_llamad_sal</th>\n",
       "      <th>financiacion</th>\n",
       "      <th>imp_financ</th>\n",
       "      <th>descuentos</th>\n",
       "      <th>antiguedad_dias</th>\n",
       "    </tr>\n",
       "  </thead>\n",
       "  <tbody>\n",
       "    <tr>\n",
       "      <th>0</th>\n",
       "      <td>1</td>\n",
       "      <td>63</td>\n",
       "      <td>216.028109</td>\n",
       "      <td>La Rioja</td>\n",
       "      <td>5</td>\n",
       "      <td>0.0</td>\n",
       "      <td>0</td>\n",
       "      <td>FIBRA</td>\n",
       "      <td>50MB</td>\n",
       "      <td>tv-futbol</td>\n",
       "      <td>95</td>\n",
       "      <td>19</td>\n",
       "      <td>6525</td>\n",
       "      <td>7634</td>\n",
       "      <td>18520</td>\n",
       "      <td>0</td>\n",
       "      <td>0.0</td>\n",
       "      <td>0</td>\n",
       "      <td>433</td>\n",
       "    </tr>\n",
       "    <tr>\n",
       "      <th>1</th>\n",
       "      <td>2</td>\n",
       "      <td>84</td>\n",
       "      <td>255.830842</td>\n",
       "      <td>Vizcaya</td>\n",
       "      <td>3</td>\n",
       "      <td>0.0</td>\n",
       "      <td>0</td>\n",
       "      <td>FIBRA</td>\n",
       "      <td>600MB</td>\n",
       "      <td>tv-futbol</td>\n",
       "      <td>44</td>\n",
       "      <td>36</td>\n",
       "      <td>14471</td>\n",
       "      <td>14541</td>\n",
       "      <td>8016</td>\n",
       "      <td>0</td>\n",
       "      <td>0.0</td>\n",
       "      <td>1</td>\n",
       "      <td>891</td>\n",
       "    </tr>\n",
       "    <tr>\n",
       "      <th>2</th>\n",
       "      <td>3</td>\n",
       "      <td>66</td>\n",
       "      <td>135.768153</td>\n",
       "      <td>Albacete</td>\n",
       "      <td>4</td>\n",
       "      <td>0.0</td>\n",
       "      <td>0</td>\n",
       "      <td>ADSL</td>\n",
       "      <td>35MB</td>\n",
       "      <td>tv-futbol</td>\n",
       "      <td>94</td>\n",
       "      <td>27</td>\n",
       "      <td>1428</td>\n",
       "      <td>5248</td>\n",
       "      <td>7106</td>\n",
       "      <td>0</td>\n",
       "      <td>0.0</td>\n",
       "      <td>1</td>\n",
       "      <td>6608</td>\n",
       "    </tr>\n",
       "    <tr>\n",
       "      <th>3</th>\n",
       "      <td>4</td>\n",
       "      <td>69</td>\n",
       "      <td>255.658527</td>\n",
       "      <td>Lugo</td>\n",
       "      <td>4</td>\n",
       "      <td>0.0</td>\n",
       "      <td>0</td>\n",
       "      <td>FIBRA</td>\n",
       "      <td>200MB</td>\n",
       "      <td>tv-familiar</td>\n",
       "      <td>186</td>\n",
       "      <td>20</td>\n",
       "      <td>20083</td>\n",
       "      <td>7372</td>\n",
       "      <td>5052</td>\n",
       "      <td>0</td>\n",
       "      <td>0.0</td>\n",
       "      <td>0</td>\n",
       "      <td>1636</td>\n",
       "    </tr>\n",
       "    <tr>\n",
       "      <th>4</th>\n",
       "      <td>6</td>\n",
       "      <td>51</td>\n",
       "      <td>99.348645</td>\n",
       "      <td>Huelva</td>\n",
       "      <td>4</td>\n",
       "      <td>0.0</td>\n",
       "      <td>0</td>\n",
       "      <td>FIBRA</td>\n",
       "      <td>200MB</td>\n",
       "      <td>tv-futbol</td>\n",
       "      <td>37</td>\n",
       "      <td>32</td>\n",
       "      <td>19078</td>\n",
       "      <td>5009</td>\n",
       "      <td>8686</td>\n",
       "      <td>0</td>\n",
       "      <td>0.0</td>\n",
       "      <td>0</td>\n",
       "      <td>8122</td>\n",
       "    </tr>\n",
       "  </tbody>\n",
       "</table>\n",
       "</div>"
      ],
      "text/plain": [
       "   id  edad  facturacion provincia  num_lineas  num_dt  incidencia conexion  \\\n",
       "0   1    63   216.028109  La Rioja           5     0.0           0    FIBRA   \n",
       "1   2    84   255.830842   Vizcaya           3     0.0           0    FIBRA   \n",
       "2   3    66   135.768153  Albacete           4     0.0           0     ADSL   \n",
       "3   4    69   255.658527      Lugo           4     0.0           0    FIBRA   \n",
       "4   6    51    99.348645    Huelva           4     0.0           0    FIBRA   \n",
       "\n",
       "  vel_conexion           TV  num_llamad_ent  num_llamad_sal  mb_datos  \\\n",
       "0         50MB    tv-futbol              95              19      6525   \n",
       "1        600MB    tv-futbol              44              36     14471   \n",
       "2         35MB    tv-futbol              94              27      1428   \n",
       "3        200MB  tv-familiar             186              20     20083   \n",
       "4        200MB    tv-futbol              37              32     19078   \n",
       "\n",
       "   seg_llamad_ent  seg_llamad_sal  financiacion  imp_financ  descuentos  \\\n",
       "0            7634           18520             0         0.0           0   \n",
       "1           14541            8016             0         0.0           1   \n",
       "2            5248            7106             0         0.0           1   \n",
       "3            7372            5052             0         0.0           0   \n",
       "4            5009            8686             0         0.0           0   \n",
       "\n",
       "   antiguedad_dias  \n",
       "0              433  \n",
       "1              891  \n",
       "2             6608  \n",
       "3             1636  \n",
       "4             8122  "
      ]
     },
     "execution_count": 32,
     "metadata": {},
     "output_type": "execute_result"
    }
   ],
   "source": [
    "df_jan.head()"
   ]
  },
  {
   "cell_type": "markdown",
   "id": "a2ba96b4-8ba7-447f-9d2f-17d207a3df36",
   "metadata": {},
   "source": [
    "## Transformación de la variable provincia"
   ]
  },
  {
   "cell_type": "code",
   "execution_count": 33,
   "id": "b6908a04-f5f8-4af5-8a9b-04421cb3a659",
   "metadata": {},
   "outputs": [],
   "source": [
    "map_provincia_ccaa = {\n",
    "    'Almería': 'Andalucía',\n",
    "    'Cádiz': 'Andalucía',\n",
    "    'Córdoba': 'Andalucía',\n",
    "    'Granada': 'Andalucía',\n",
    "    'Huelva': 'Andalucía',\n",
    "    'Jaén': 'Andalucía',\n",
    "    'Málaga': 'Andalucía',\n",
    "    'Sevilla': 'Andalucía',\n",
    "    'Huesca': 'Aragón',\n",
    "    'Teruel': 'Aragón',\n",
    "    'Zaragoza': 'Aragón',\n",
    "    'Asturias': 'Asturias',\n",
    "    'Cantabria': 'Cantabria',\n",
    "    'Ávila': 'Castilla y León',\n",
    "    'Burgos': 'Castilla y León',\n",
    "    'León': 'Castilla y León',\n",
    "    'Palencia': 'Castilla y León',\n",
    "    'Salamanca': 'Castilla y León',\n",
    "    'Segovia': 'Castilla y León',\n",
    "    'Soria': 'Castilla y León',\n",
    "    'Valladolid': 'Castilla y León',\n",
    "    'Zamora': 'Castilla y León',\n",
    "    'Albacete': 'Castilla-La Mancha',\n",
    "    'Ciudad Real': 'Castilla-La Mancha',\n",
    "    'Cuenca': 'Castilla-La Mancha',\n",
    "    'Guadalajara': 'Castilla-La Mancha',\n",
    "    'Toledo': 'Castilla-La Mancha',\n",
    "    'Barcelona': 'Cataluña',\n",
    "    'Gerona': 'Cataluña',\n",
    "    'Girona': 'Cataluña',\n",
    "    'Lérida': 'Cataluña',\n",
    "    'Lleida': 'Cataluña',\n",
    "    'Tarragona': 'Cataluña',\n",
    "    'Alicante': 'Comunidad Valenciana',\n",
    "    'Castellón': 'Comunidad Valenciana',\n",
    "    'Valencia': 'Comunidad Valenciana',\n",
    "    'Badajoz': 'Extremadura',\n",
    "    'Cáceres': 'Extremadura',\n",
    "    'La Coruña': 'Galicia',\n",
    "    'A Coruña': 'Galicia',\n",
    "    'Lugo': 'Galicia',\n",
    "    'Orense': 'Galicia',\n",
    "    'Ourense': 'Galicia',\n",
    "    'Pontevedra': 'Galicia',\n",
    "    'Madrid': 'Madrid',\n",
    "    'Murcia': 'Murcia',\n",
    "    'Navarra': 'Navarra',\n",
    "    'Álava': 'País Vasco',\n",
    "    'Vizcaya': 'País Vasco',\n",
    "    'Guipúzcoa': 'País Vasco',\n",
    "    'La Rioja': 'La Rioja',\n",
    "    'Islas Baleares': 'Islas Baleares',\n",
    "    'Las Palmas': 'Islas Canarias',\n",
    "    'Santa Cruz de Tenerife': 'Islas Canarias',\n",
    "    'Ceuta': 'Ceuta',\n",
    "    'Melilla': 'Melilla'\n",
    "}\n"
   ]
  },
  {
   "cell_type": "code",
   "execution_count": 34,
   "id": "923962c9-210d-4343-86d5-850bd8064326",
   "metadata": {},
   "outputs": [],
   "source": [
    "df_jan['ccaa'] = df_jan['provincia'].map(map_provincia_ccaa)"
   ]
  },
  {
   "cell_type": "code",
   "execution_count": 35,
   "id": "0e6209a2-eedc-4275-b659-7a663118cf79",
   "metadata": {},
   "outputs": [
    {
     "data": {
      "text/plain": [
       "ccaa\n",
       "Castilla y León         16577\n",
       "Andalucía               14977\n",
       "Castilla-La Mancha       9123\n",
       "Galicia                  7428\n",
       "Cataluña                 7345\n",
       "Comunidad Valenciana     5690\n",
       "País Vasco               5526\n",
       "Aragón                   5526\n",
       "Extremadura              3724\n",
       "Islas Canarias           3664\n",
       "Asturias                 1934\n",
       "Murcia                   1931\n",
       "Navarra                  1930\n",
       "Islas Baleares           1864\n",
       "Madrid                   1849\n",
       "La Rioja                 1816\n",
       "Cantabria                1807\n",
       "Name: count, dtype: int64"
      ]
     },
     "execution_count": 35,
     "metadata": {},
     "output_type": "execute_result"
    }
   ],
   "source": [
    "df_jan['ccaa'].value_counts()"
   ]
  },
  {
   "cell_type": "code",
   "execution_count": 36,
   "id": "eae53712-eea8-4f83-86a5-0706ce812848",
   "metadata": {},
   "outputs": [],
   "source": [
    "df_jan.drop('provincia', axis=1, inplace=True)"
   ]
  },
  {
   "cell_type": "code",
   "execution_count": 37,
   "id": "4f3fb50d-e1b7-4691-83e9-c3709910de47",
   "metadata": {},
   "outputs": [
    {
     "data": {
      "text/html": [
       "<div>\n",
       "<style scoped>\n",
       "    .dataframe tbody tr th:only-of-type {\n",
       "        vertical-align: middle;\n",
       "    }\n",
       "\n",
       "    .dataframe tbody tr th {\n",
       "        vertical-align: top;\n",
       "    }\n",
       "\n",
       "    .dataframe thead th {\n",
       "        text-align: right;\n",
       "    }\n",
       "</style>\n",
       "<table border=\"1\" class=\"dataframe\">\n",
       "  <thead>\n",
       "    <tr style=\"text-align: right;\">\n",
       "      <th></th>\n",
       "      <th>id</th>\n",
       "      <th>edad</th>\n",
       "      <th>facturacion</th>\n",
       "      <th>num_lineas</th>\n",
       "      <th>num_dt</th>\n",
       "      <th>incidencia</th>\n",
       "      <th>conexion</th>\n",
       "      <th>vel_conexion</th>\n",
       "      <th>TV</th>\n",
       "      <th>num_llamad_ent</th>\n",
       "      <th>num_llamad_sal</th>\n",
       "      <th>mb_datos</th>\n",
       "      <th>seg_llamad_ent</th>\n",
       "      <th>seg_llamad_sal</th>\n",
       "      <th>financiacion</th>\n",
       "      <th>imp_financ</th>\n",
       "      <th>descuentos</th>\n",
       "      <th>antiguedad_dias</th>\n",
       "      <th>ccaa</th>\n",
       "    </tr>\n",
       "  </thead>\n",
       "  <tbody>\n",
       "    <tr>\n",
       "      <th>0</th>\n",
       "      <td>1</td>\n",
       "      <td>63</td>\n",
       "      <td>216.028109</td>\n",
       "      <td>5</td>\n",
       "      <td>0.0</td>\n",
       "      <td>0</td>\n",
       "      <td>FIBRA</td>\n",
       "      <td>50MB</td>\n",
       "      <td>tv-futbol</td>\n",
       "      <td>95</td>\n",
       "      <td>19</td>\n",
       "      <td>6525</td>\n",
       "      <td>7634</td>\n",
       "      <td>18520</td>\n",
       "      <td>0</td>\n",
       "      <td>0.0</td>\n",
       "      <td>0</td>\n",
       "      <td>433</td>\n",
       "      <td>La Rioja</td>\n",
       "    </tr>\n",
       "    <tr>\n",
       "      <th>1</th>\n",
       "      <td>2</td>\n",
       "      <td>84</td>\n",
       "      <td>255.830842</td>\n",
       "      <td>3</td>\n",
       "      <td>0.0</td>\n",
       "      <td>0</td>\n",
       "      <td>FIBRA</td>\n",
       "      <td>600MB</td>\n",
       "      <td>tv-futbol</td>\n",
       "      <td>44</td>\n",
       "      <td>36</td>\n",
       "      <td>14471</td>\n",
       "      <td>14541</td>\n",
       "      <td>8016</td>\n",
       "      <td>0</td>\n",
       "      <td>0.0</td>\n",
       "      <td>1</td>\n",
       "      <td>891</td>\n",
       "      <td>País Vasco</td>\n",
       "    </tr>\n",
       "    <tr>\n",
       "      <th>2</th>\n",
       "      <td>3</td>\n",
       "      <td>66</td>\n",
       "      <td>135.768153</td>\n",
       "      <td>4</td>\n",
       "      <td>0.0</td>\n",
       "      <td>0</td>\n",
       "      <td>ADSL</td>\n",
       "      <td>35MB</td>\n",
       "      <td>tv-futbol</td>\n",
       "      <td>94</td>\n",
       "      <td>27</td>\n",
       "      <td>1428</td>\n",
       "      <td>5248</td>\n",
       "      <td>7106</td>\n",
       "      <td>0</td>\n",
       "      <td>0.0</td>\n",
       "      <td>1</td>\n",
       "      <td>6608</td>\n",
       "      <td>Castilla-La Mancha</td>\n",
       "    </tr>\n",
       "    <tr>\n",
       "      <th>3</th>\n",
       "      <td>4</td>\n",
       "      <td>69</td>\n",
       "      <td>255.658527</td>\n",
       "      <td>4</td>\n",
       "      <td>0.0</td>\n",
       "      <td>0</td>\n",
       "      <td>FIBRA</td>\n",
       "      <td>200MB</td>\n",
       "      <td>tv-familiar</td>\n",
       "      <td>186</td>\n",
       "      <td>20</td>\n",
       "      <td>20083</td>\n",
       "      <td>7372</td>\n",
       "      <td>5052</td>\n",
       "      <td>0</td>\n",
       "      <td>0.0</td>\n",
       "      <td>0</td>\n",
       "      <td>1636</td>\n",
       "      <td>Galicia</td>\n",
       "    </tr>\n",
       "    <tr>\n",
       "      <th>4</th>\n",
       "      <td>6</td>\n",
       "      <td>51</td>\n",
       "      <td>99.348645</td>\n",
       "      <td>4</td>\n",
       "      <td>0.0</td>\n",
       "      <td>0</td>\n",
       "      <td>FIBRA</td>\n",
       "      <td>200MB</td>\n",
       "      <td>tv-futbol</td>\n",
       "      <td>37</td>\n",
       "      <td>32</td>\n",
       "      <td>19078</td>\n",
       "      <td>5009</td>\n",
       "      <td>8686</td>\n",
       "      <td>0</td>\n",
       "      <td>0.0</td>\n",
       "      <td>0</td>\n",
       "      <td>8122</td>\n",
       "      <td>Andalucía</td>\n",
       "    </tr>\n",
       "  </tbody>\n",
       "</table>\n",
       "</div>"
      ],
      "text/plain": [
       "   id  edad  facturacion  num_lineas  num_dt  incidencia conexion  \\\n",
       "0   1    63   216.028109           5     0.0           0    FIBRA   \n",
       "1   2    84   255.830842           3     0.0           0    FIBRA   \n",
       "2   3    66   135.768153           4     0.0           0     ADSL   \n",
       "3   4    69   255.658527           4     0.0           0    FIBRA   \n",
       "4   6    51    99.348645           4     0.0           0    FIBRA   \n",
       "\n",
       "  vel_conexion           TV  num_llamad_ent  num_llamad_sal  mb_datos  \\\n",
       "0         50MB    tv-futbol              95              19      6525   \n",
       "1        600MB    tv-futbol              44              36     14471   \n",
       "2         35MB    tv-futbol              94              27      1428   \n",
       "3        200MB  tv-familiar             186              20     20083   \n",
       "4        200MB    tv-futbol              37              32     19078   \n",
       "\n",
       "   seg_llamad_ent  seg_llamad_sal  financiacion  imp_financ  descuentos  \\\n",
       "0            7634           18520             0         0.0           0   \n",
       "1           14541            8016             0         0.0           1   \n",
       "2            5248            7106             0         0.0           1   \n",
       "3            7372            5052             0         0.0           0   \n",
       "4            5009            8686             0         0.0           0   \n",
       "\n",
       "   antiguedad_dias                ccaa  \n",
       "0              433            La Rioja  \n",
       "1              891          País Vasco  \n",
       "2             6608  Castilla-La Mancha  \n",
       "3             1636             Galicia  \n",
       "4             8122           Andalucía  "
      ]
     },
     "execution_count": 37,
     "metadata": {},
     "output_type": "execute_result"
    }
   ],
   "source": [
    "df_jan.head()"
   ]
  },
  {
   "cell_type": "markdown",
   "id": "c0f33fc2-abab-48cb-bf09-08539f751e73",
   "metadata": {},
   "source": [
    "## Transformación de la variable vel_conexion"
   ]
  },
  {
   "cell_type": "code",
   "execution_count": 38,
   "id": "1c0c96a4-ed76-4524-b8f6-f2de38ad36a3",
   "metadata": {},
   "outputs": [
    {
     "data": {
      "text/plain": [
       "dtype('O')"
      ]
     },
     "execution_count": 38,
     "metadata": {},
     "output_type": "execute_result"
    }
   ],
   "source": [
    "df_jan['vel_conexion'].dtype"
   ]
  },
  {
   "cell_type": "code",
   "execution_count": 39,
   "id": "76bde49f-6187-4a0c-bfeb-ef9f9a7d3872",
   "metadata": {},
   "outputs": [],
   "source": [
    "df_jan['vel_conexion'] = df_jan['vel_conexion'].str.replace('MB', '').astype(int)"
   ]
  },
  {
   "cell_type": "code",
   "execution_count": 40,
   "id": "9816f9c2-ce00-4f2c-9c0a-b3814a64f331",
   "metadata": {},
   "outputs": [
    {
     "data": {
      "text/plain": [
       "dtype('int32')"
      ]
     },
     "execution_count": 40,
     "metadata": {},
     "output_type": "execute_result"
    }
   ],
   "source": [
    "df_jan['vel_conexion'].dtype"
   ]
  },
  {
   "cell_type": "code",
   "execution_count": 41,
   "id": "cdb95f8c-51cd-4daf-82b6-1ece9ede18ab",
   "metadata": {},
   "outputs": [
    {
     "data": {
      "text/plain": [
       "vel_conexion\n",
       "200    9343\n",
       "600    9299\n",
       "300    9212\n",
       "50     9167\n",
       "100    9099\n",
       "20     7884\n",
       "25     7840\n",
       "10     7807\n",
       "30     7761\n",
       "35     7672\n",
       "15     7627\n",
       "Name: count, dtype: int64"
      ]
     },
     "execution_count": 41,
     "metadata": {},
     "output_type": "execute_result"
    }
   ],
   "source": [
    "df_jan['vel_conexion'].value_counts()"
   ]
  },
  {
   "cell_type": "markdown",
   "id": "e4ab76c4-385d-4070-9236-e8cd40e20087",
   "metadata": {},
   "source": [
    "## Creación de variables derivadas"
   ]
  },
  {
   "cell_type": "code",
   "execution_count": 45,
   "id": "52357d44-31a6-4108-b085-5faf8c449e9e",
   "metadata": {},
   "outputs": [],
   "source": [
    "# Total de llamadas\n",
    "df_jan['llamadas_total'] = df_jan['num_llamad_ent'] + df_jan['num_llamad_sal']\n",
    "# Duración total de llamadas\n",
    "df_jan['segundos_total'] = df_jan['seg_llamad_ent'] + df_jan['seg_llamad_sal']\n",
    "# Ratio datos/llamadas\n",
    "df_jan['ratio_datos_llamadas'] = df_jan['mb_datos'] / (df_jan['llamadas_total'] + 1)\n",
    "# Gasto total relacionado con financiación\n",
    "df_jan['gasto_total'] = df_jan['imp_financ'] + df_jan['descuentos']\n",
    "# Facturación por línea\n",
    "df_jan['facturacion_por_linea'] = df_jan['facturacion'] / (df_jan['num_lineas'] + 1)"
   ]
  },
  {
   "cell_type": "markdown",
   "id": "2929ebe7-73e8-485a-9850-449331cea6b9",
   "metadata": {},
   "source": [
    "## Creación de la variable impago"
   ]
  },
  {
   "cell_type": "code",
   "execution_count": 49,
   "id": "51cc819e-a5ba-4a2a-b74c-d4a5f9e8f86f",
   "metadata": {},
   "outputs": [],
   "source": [
    "df_jan['impago'] = (df_jan['num_dt'] > 0).astype(int)\n",
    "df_jan.drop('num_dt', axis=1, inplace=True)"
   ]
  },
  {
   "cell_type": "markdown",
   "id": "5f8e2689-97d3-4f2d-82e9-5153f9470642",
   "metadata": {},
   "source": [
    "## Guardado del dataset como CSV una vez limpio para realizar el modelado"
   ]
  },
  {
   "cell_type": "code",
   "execution_count": 50,
   "id": "da971f09-a1f2-41e3-8a90-4c7289d5dc12",
   "metadata": {},
   "outputs": [],
   "source": [
    "df_jan.to_parquet(\"df_jan_preprocessed.parquet\")"
   ]
  },
  {
   "cell_type": "markdown",
   "id": "976ce2a9-348a-4b09-ad10-9edeeac94e87",
   "metadata": {},
   "source": [
    "## Cargamos el modelo y aplicamos las predicciones."
   ]
  },
  {
   "cell_type": "code",
   "execution_count": 51,
   "id": "547d3245-b824-4944-b27c-084120387e45",
   "metadata": {},
   "outputs": [],
   "source": [
    "# Cargamos el pipeline del modelo\n",
    "pipeline, *_ = joblib.load(\"churn_model.pkl\")"
   ]
  },
  {
   "cell_type": "code",
   "execution_count": 52,
   "id": "026a0232-f541-4bbd-9283-cd8ea02e57fb",
   "metadata": {},
   "outputs": [],
   "source": [
    "# Realizamos predicciones\n",
    "df_jan['pred_clase'] = pipeline.predict(df_jan)\n",
    "df_jan['pred_prob'] = pipeline.predict_proba(df_jan)[:, 1]"
   ]
  },
  {
   "cell_type": "code",
   "execution_count": 53,
   "id": "77e19e0e-00d9-40bb-8ae2-b350e52f85a5",
   "metadata": {},
   "outputs": [
    {
     "data": {
      "text/html": [
       "<div>\n",
       "<style scoped>\n",
       "    .dataframe tbody tr th:only-of-type {\n",
       "        vertical-align: middle;\n",
       "    }\n",
       "\n",
       "    .dataframe tbody tr th {\n",
       "        vertical-align: top;\n",
       "    }\n",
       "\n",
       "    .dataframe thead th {\n",
       "        text-align: right;\n",
       "    }\n",
       "</style>\n",
       "<table border=\"1\" class=\"dataframe\">\n",
       "  <thead>\n",
       "    <tr style=\"text-align: right;\">\n",
       "      <th></th>\n",
       "      <th>id</th>\n",
       "      <th>edad</th>\n",
       "      <th>facturacion</th>\n",
       "      <th>num_lineas</th>\n",
       "      <th>incidencia</th>\n",
       "      <th>conexion</th>\n",
       "      <th>vel_conexion</th>\n",
       "      <th>TV</th>\n",
       "      <th>num_llamad_ent</th>\n",
       "      <th>num_llamad_sal</th>\n",
       "      <th>...</th>\n",
       "      <th>antiguedad_dias</th>\n",
       "      <th>ccaa</th>\n",
       "      <th>llamadas_total</th>\n",
       "      <th>segundos_total</th>\n",
       "      <th>ratio_datos_llamadas</th>\n",
       "      <th>gasto_total</th>\n",
       "      <th>facturacion_por_linea</th>\n",
       "      <th>impago</th>\n",
       "      <th>pred_clase</th>\n",
       "      <th>pred_prob</th>\n",
       "    </tr>\n",
       "  </thead>\n",
       "  <tbody>\n",
       "    <tr>\n",
       "      <th>0</th>\n",
       "      <td>1</td>\n",
       "      <td>63</td>\n",
       "      <td>216.028109</td>\n",
       "      <td>5</td>\n",
       "      <td>0</td>\n",
       "      <td>FIBRA</td>\n",
       "      <td>50</td>\n",
       "      <td>tv-futbol</td>\n",
       "      <td>95</td>\n",
       "      <td>19</td>\n",
       "      <td>...</td>\n",
       "      <td>433</td>\n",
       "      <td>La Rioja</td>\n",
       "      <td>114</td>\n",
       "      <td>26154</td>\n",
       "      <td>56.739130</td>\n",
       "      <td>0.0</td>\n",
       "      <td>36.004685</td>\n",
       "      <td>0</td>\n",
       "      <td>0</td>\n",
       "      <td>0.005238</td>\n",
       "    </tr>\n",
       "    <tr>\n",
       "      <th>1</th>\n",
       "      <td>2</td>\n",
       "      <td>84</td>\n",
       "      <td>255.830842</td>\n",
       "      <td>3</td>\n",
       "      <td>0</td>\n",
       "      <td>FIBRA</td>\n",
       "      <td>600</td>\n",
       "      <td>tv-futbol</td>\n",
       "      <td>44</td>\n",
       "      <td>36</td>\n",
       "      <td>...</td>\n",
       "      <td>891</td>\n",
       "      <td>País Vasco</td>\n",
       "      <td>80</td>\n",
       "      <td>22557</td>\n",
       "      <td>178.654321</td>\n",
       "      <td>1.0</td>\n",
       "      <td>63.957710</td>\n",
       "      <td>0</td>\n",
       "      <td>0</td>\n",
       "      <td>0.000000</td>\n",
       "    </tr>\n",
       "    <tr>\n",
       "      <th>2</th>\n",
       "      <td>3</td>\n",
       "      <td>66</td>\n",
       "      <td>135.768153</td>\n",
       "      <td>4</td>\n",
       "      <td>0</td>\n",
       "      <td>ADSL</td>\n",
       "      <td>35</td>\n",
       "      <td>tv-futbol</td>\n",
       "      <td>94</td>\n",
       "      <td>27</td>\n",
       "      <td>...</td>\n",
       "      <td>6608</td>\n",
       "      <td>Castilla-La Mancha</td>\n",
       "      <td>121</td>\n",
       "      <td>12354</td>\n",
       "      <td>11.704918</td>\n",
       "      <td>1.0</td>\n",
       "      <td>27.153631</td>\n",
       "      <td>0</td>\n",
       "      <td>0</td>\n",
       "      <td>0.000000</td>\n",
       "    </tr>\n",
       "    <tr>\n",
       "      <th>3</th>\n",
       "      <td>4</td>\n",
       "      <td>69</td>\n",
       "      <td>255.658527</td>\n",
       "      <td>4</td>\n",
       "      <td>0</td>\n",
       "      <td>FIBRA</td>\n",
       "      <td>200</td>\n",
       "      <td>tv-familiar</td>\n",
       "      <td>186</td>\n",
       "      <td>20</td>\n",
       "      <td>...</td>\n",
       "      <td>1636</td>\n",
       "      <td>Galicia</td>\n",
       "      <td>206</td>\n",
       "      <td>12424</td>\n",
       "      <td>97.019324</td>\n",
       "      <td>0.0</td>\n",
       "      <td>51.131705</td>\n",
       "      <td>0</td>\n",
       "      <td>0</td>\n",
       "      <td>0.000000</td>\n",
       "    </tr>\n",
       "    <tr>\n",
       "      <th>4</th>\n",
       "      <td>6</td>\n",
       "      <td>51</td>\n",
       "      <td>99.348645</td>\n",
       "      <td>4</td>\n",
       "      <td>0</td>\n",
       "      <td>FIBRA</td>\n",
       "      <td>200</td>\n",
       "      <td>tv-futbol</td>\n",
       "      <td>37</td>\n",
       "      <td>32</td>\n",
       "      <td>...</td>\n",
       "      <td>8122</td>\n",
       "      <td>Andalucía</td>\n",
       "      <td>69</td>\n",
       "      <td>13695</td>\n",
       "      <td>272.542857</td>\n",
       "      <td>0.0</td>\n",
       "      <td>19.869729</td>\n",
       "      <td>0</td>\n",
       "      <td>0</td>\n",
       "      <td>0.000000</td>\n",
       "    </tr>\n",
       "  </tbody>\n",
       "</table>\n",
       "<p>5 rows × 26 columns</p>\n",
       "</div>"
      ],
      "text/plain": [
       "   id  edad  facturacion  num_lineas  incidencia conexion  vel_conexion  \\\n",
       "0   1    63   216.028109           5           0    FIBRA            50   \n",
       "1   2    84   255.830842           3           0    FIBRA           600   \n",
       "2   3    66   135.768153           4           0     ADSL            35   \n",
       "3   4    69   255.658527           4           0    FIBRA           200   \n",
       "4   6    51    99.348645           4           0    FIBRA           200   \n",
       "\n",
       "            TV  num_llamad_ent  num_llamad_sal  ...  antiguedad_dias  \\\n",
       "0    tv-futbol              95              19  ...              433   \n",
       "1    tv-futbol              44              36  ...              891   \n",
       "2    tv-futbol              94              27  ...             6608   \n",
       "3  tv-familiar             186              20  ...             1636   \n",
       "4    tv-futbol              37              32  ...             8122   \n",
       "\n",
       "                 ccaa  llamadas_total  segundos_total  ratio_datos_llamadas  \\\n",
       "0            La Rioja             114           26154             56.739130   \n",
       "1          País Vasco              80           22557            178.654321   \n",
       "2  Castilla-La Mancha             121           12354             11.704918   \n",
       "3             Galicia             206           12424             97.019324   \n",
       "4           Andalucía              69           13695            272.542857   \n",
       "\n",
       "   gasto_total  facturacion_por_linea impago  pred_clase  pred_prob  \n",
       "0          0.0              36.004685      0           0   0.005238  \n",
       "1          1.0              63.957710      0           0   0.000000  \n",
       "2          1.0              27.153631      0           0   0.000000  \n",
       "3          0.0              51.131705      0           0   0.000000  \n",
       "4          0.0              19.869729      0           0   0.000000  \n",
       "\n",
       "[5 rows x 26 columns]"
      ]
     },
     "execution_count": 53,
     "metadata": {},
     "output_type": "execute_result"
    }
   ],
   "source": [
    "df_jan.head()"
   ]
  },
  {
   "cell_type": "code",
   "execution_count": 54,
   "id": "7ae6efc5-07fe-4272-b397-23cf9a94c4c8",
   "metadata": {},
   "outputs": [
    {
     "data": {
      "image/png": "[encoded data removed]",
      "text/plain": [
       "<Figure size 1000x600 with 1 Axes>"
      ]
     },
     "metadata": {},
     "output_type": "display_data"
    }
   ],
   "source": [
    "plt.figure(figsize=(10, 6))\n",
    "sns.histplot(df_jan['pred_prob'], bins=30, kde=True, color='skyblue')\n",
    "plt.title(\"Distribución de la probabilidad de fuga (pred_prob)\")\n",
    "plt.xlabel(\"Probabilidad de que el cliente se fugue\")\n",
    "plt.ylabel(\"Frecuencia\")\n",
    "plt.grid(True)\n",
    "plt.tight_layout()\n",
    "plt.show()"
   ]
  },
  {
   "cell_type": "code",
   "execution_count": 57,
   "id": "256085d3-078f-4782-87f0-b9b5f254d41a",
   "metadata": {},
   "outputs": [
    {
     "data": {
      "text/plain": [
       "pred_clase\n",
       "0    92268\n",
       "1      443\n",
       "Name: count, dtype: int64"
      ]
     },
     "execution_count": 57,
     "metadata": {},
     "output_type": "execute_result"
    }
   ],
   "source": [
    "df_jan['pred_clase'].value_counts()"
   ]
  },
  {
   "cell_type": "markdown",
   "id": "356a9287-e465-4748-9cdb-418bc0803635",
   "metadata": {},
   "source": [
    "Tras aplicar el modelo entrenado sobre los clientes del mes de enero, observamos que únicamente un pequeño porcentaje de ellos ha sido clasificado como clientes con alta probabilidad de fuga. Concretamente, el modelo ha identificado 443 clientes en riesgo de abandonar la compañía frente a más de 92.000 que permanecerían.\n",
    "\n",
    "Este comportamiento es coherente con la realidad de negocio. En sectores como las telecomunicaciones, las tasas de fuga mensual suelen ser bajas. Por tanto, es esperable que la mayoría de los clientes no presenten señales de abandono inminente. El objetivo del modelo es detectar con precisión aquellos perfiles que realmente se asemejan a los casos de fuga observados en el pasado.\n",
    "\n",
    "Desde el punto de vista estratégico, esta predicción resulta altamente útil, ya que permite a la empresa concentrar sus esfuerzos de retención en un grupo reducido pero bien segmentado de clientes con alto riesgo, optimizando así los recursos disponibles y mejorando el retorno de las acciones comerciales."
   ]
  },
  {
   "cell_type": "code",
   "execution_count": null,
   "id": "5f55bae7-ac05-4f46-8ac1-71959172fac4",
   "metadata": {},
   "outputs": [],
   "source": []
  }
 ],
 "metadata": {
  "kernelspec": {
   "display_name": "Python 3 (ipykernel)",
   "language": "python",
   "name": "python3"
  },
  "language_info": {
   "codemirror_mode": {
    "name": "ipython",
    "version": 3
   },
   "file_extension": ".py",
   "mimetype": "text/x-python",
   "name": "python",
   "nbconvert_exporter": "python",
   "pygments_lexer": "ipython3",
   "version": "3.11.11"
  }
 },
 "nbformat": 4,
 "nbformat_minor": 5
}
